{
 "cells": [
  {
   "cell_type": "markdown",
   "id": "576c37f0-2f2b-4170-9da7-cdc49fc9f31b",
   "metadata": {},
   "source": [
    "1. To what does a relative path refer?\n",
    "\n",
    "Ans\n",
    "A relative path in Python is a path that describes the location of a directory relative to the entry point where you run the Python script"
   ]
  },
  {
   "cell_type": "markdown",
   "id": "c91cec3f-ea60-4ada-8da8-2fd5d6c30f8b",
   "metadata": {},
   "source": [
    "2. What does an absolute path start with your operating system?\n",
    "\n",
    "Ans\n",
    "\n",
    "the absolute start of your hard drive"
   ]
  },
  {
   "cell_type": "markdown",
   "id": "c3ac97b9-2460-4c93-bf7d-73e5fc06aee5",
   "metadata": {},
   "source": [
    "3. What do the functions os.getcwd() and os.chdir() do?\n",
    "\n",
    "AnS\n",
    "\n",
    "\n",
    "getcwd() : CWD stands for Current Working Directory. This function allows you to see what your current working directory is. chdir(\"path-to-dir\") : Short for CHange DIRectory, this function allows you to set the current working directory to a path of your choice"
   ]
  },
  {
   "cell_type": "markdown",
   "id": "2cd76df6-9614-42cd-9c4e-ae1c4acb3d73",
   "metadata": {},
   "source": [
    "4. What are the . and .. folders?\n",
    "\n",
    "\n",
    "aNS\n",
    "\n",
    "A directory is a collection of files and subdirectories. A directory inside a directory is known as a subdirectory. Python has the os module that provides us with many useful methods to work with directories (and files as well)"
   ]
  },
  {
   "cell_type": "markdown",
   "id": "3e82e029-38f8-416e-8307-f77d2efcfec5",
   "metadata": {},
   "source": [
    "5. In C:\\bacon\\eggs\\spam.txt, which part is the dir name, and which part is the base name?\n",
    "\n",
    "anS\n",
    "\n",
    "C:\\bacon\\eggs is the dir name, while spam.txt is the base name.\n"
   ]
  },
  {
   "cell_type": "markdown",
   "id": "05a2b3c6-9f57-473f-bfe7-181558e54eef",
   "metadata": {},
   "source": [
    "6. What are the three “mode” arguments that can be passed to the open() function?\n",
    "\n",
    "\n",
    "Ans\n",
    "\n",
    "The string 'r' for read mode, 'w' for write mode, and 'a' for append mode\n"
   ]
  },
  {
   "cell_type": "markdown",
   "id": "710a3cb8-695c-47d1-8f13-4beefffe094d",
   "metadata": {},
   "source": [
    "7. What happens if an existing file is opened in write mode?\n",
    "\n",
    "ANs\n",
    "\n",
    "An existing file opened in write mode is erased and completely overwritten."
   ]
  },
  {
   "cell_type": "code",
   "execution_count": null,
   "id": "2770465b-da01-42a2-ac4d-90dc85310966",
   "metadata": {},
   "outputs": [],
   "source": []
  }
 ],
 "metadata": {
  "kernelspec": {
   "display_name": "Python 3 (ipykernel)",
   "language": "python",
   "name": "python3"
  },
  "language_info": {
   "codemirror_mode": {
    "name": "ipython",
    "version": 3
   },
   "file_extension": ".py",
   "mimetype": "text/x-python",
   "name": "python",
   "nbconvert_exporter": "python",
   "pygments_lexer": "ipython3",
   "version": "3.10.6"
  }
 },
 "nbformat": 4,
 "nbformat_minor": 5
}
