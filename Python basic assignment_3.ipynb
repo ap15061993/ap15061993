{
 "cells": [
  {
   "cell_type": "raw",
   "id": "0fecdd86",
   "metadata": {},
   "source": [
    "1. Why are functions advantageous to have in your programs?\n",
    "\n",
    "Ans-If a group of statements is repeatedly required then it is not recommended to write these statements everytime seperately.We have to define these statements as a single unit and we can call that unit any number of times based on our requirement without rewriting. This unit is nothing but function.\n",
    "\n",
    "The main advantage of functions is code Reusability.\n"
   ]
  },
  {
   "cell_type": "raw",
   "id": "3498bcb3",
   "metadata": {},
   "source": [
    "2. When does the code in a function run: when it's specified or when it's called?\n",
    "\n",
    "Ans-Function code run when we call the function after specifieng the total required number of argument ."
   ]
  },
  {
   "cell_type": "raw",
   "id": "34af3e97",
   "metadata": {},
   "source": [
    "3. What statement creates a function?\n",
    "\n",
    "Ans- using def keywork we can create function in python . like def add()"
   ]
  },
  {
   "cell_type": "raw",
   "id": "25c5b48c",
   "metadata": {},
   "source": [
    "4. What is the difference between a function and a function call?\n",
    "\n",
    "Ans-\n",
    "A function is a block of code that does a particular operation and returns a result. It usually accepts inputs as parameters and returns a result. The parameters are not mandatory.\n",
    "\n",
    "like def test():\n",
    "         print(\"hello\")\n",
    "\n",
    "And the function call is the way , by using this the logic written inside the function will get execute\n",
    "\n",
    "like below we are calling function .\n",
    "test()"
   ]
  },
  {
   "cell_type": "raw",
   "id": "0cc339c1",
   "metadata": {},
   "source": [
    "5. How many global scopes are there in a Python program? How many local scopes?\n",
    "ans-\n",
    "There’s only one global Python scope per program execution. and also one for local variables."
   ]
  },
  {
   "cell_type": "raw",
   "id": "e4dda411",
   "metadata": {},
   "source": [
    "6. What happens to variables in a local scope when the function call returns?\n",
    "\n",
    "Ans-\n",
    "while we call the function , the logic written inside the function will get execute .Ans also the scope of local variable is inside the function only, Outside the function we can't use that local variable."
   ]
  },
  {
   "cell_type": "raw",
   "id": "cf0aaac1",
   "metadata": {},
   "source": [
    "7. What is the concept of a return value? Is it possible to have a return value in an expression?\n",
    "\n",
    "Ans-\n",
    "The Python return statement is a special statement that you can use inside a function or method to send the function’s result back to the caller. A return statement consists of the return keyword followed by an optional return value.\n",
    "Ans also we can return the expression as well .\n",
    "like \n",
    "def test(a,b):\n",
    "    return a+b\n",
    "print(\"the sum is:\",test(10,20))"
   ]
  },
  {
   "cell_type": "raw",
   "id": "82f837ae",
   "metadata": {},
   "source": [
    "8. If a function does not have a return statement, what is the return value of a call to that function?\n",
    "Ans -None"
   ]
  },
  {
   "cell_type": "raw",
   "id": "cd09e75c",
   "metadata": {},
   "source": [
    "9. How do you make a function variable refer to the global variable?\n",
    "\n",
    "Ans-using global keyword"
   ]
  },
  {
   "cell_type": "raw",
   "id": "fb40246c",
   "metadata": {},
   "source": [
    "10. What is the data type of None?\n",
    "ans-\n",
    "None is a data type of its own (NoneType) "
   ]
  },
  {
   "cell_type": "raw",
   "id": "282be48f",
   "metadata": {},
   "source": [
    "11. What does the sentence import areallyourpetsnamederic do?\n",
    "\n",
    "Ans\n",
    "That import statement imports a module named areallyourpetsnamederic.\n"
   ]
  },
  {
   "cell_type": "raw",
   "id": "2d61004b",
   "metadata": {},
   "source": [
    "12. If you had a bacon() feature in a spam module, what would you call it after importing spam?\n",
    "Ans-\n",
    "spam.becon()"
   ]
  },
  {
   "cell_type": "raw",
   "id": "3175e5b1",
   "metadata": {},
   "source": [
    "13. What can you do to save a programme from crashing if it encounters an error?\n",
    "Ans- if any error occure ans we don't to crash our program due to that error ,so we have to use error handling concept"
   ]
  },
  {
   "cell_type": "raw",
   "id": "47c3b30f",
   "metadata": {},
   "source": [
    "14. What is the purpose of the try clause? What is the purpose of the except clause?\n",
    "\n",
    "Ans-inside the try we used to write that code in which we can get error and except clause to handle that error which came in try clause ."
   ]
  },
  {
   "cell_type": "code",
   "execution_count": null,
   "id": "5b53b99c",
   "metadata": {},
   "outputs": [],
   "source": []
  }
 ],
 "metadata": {
  "kernelspec": {
   "display_name": "Python 3 (ipykernel)",
   "language": "python",
   "name": "python3"
  },
  "language_info": {
   "codemirror_mode": {
    "name": "ipython",
    "version": 3
   },
   "file_extension": ".py",
   "mimetype": "text/x-python",
   "name": "python",
   "nbconvert_exporter": "python",
   "pygments_lexer": "ipython3",
   "version": "3.10.9"
  }
 },
 "nbformat": 4,
 "nbformat_minor": 5
}
