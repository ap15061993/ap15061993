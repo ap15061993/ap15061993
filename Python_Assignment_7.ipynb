{
 "cells": [
  {
   "cell_type": "raw",
   "id": "5d66f3bd",
   "metadata": {},
   "source": [
    "1. What is the name of the feature responsible for generating Regex objects?\n",
    "Ans--\n",
    "The re.compile() function returns Regex object"
   ]
  },
  {
   "cell_type": "raw",
   "id": "73859e8b",
   "metadata": {},
   "source": [
    "2. Why do raw strings often appear in Regex objects?\n",
    "Ans-\n",
    "The issue exists because Python and RegExps use \\ as escape character, which is, by the way, a coincidence - there are languages with other escape characters"
   ]
  },
  {
   "cell_type": "raw",
   "id": "620a99cb",
   "metadata": {},
   "source": [
    "3. What is the return value of the search() method?\n",
    "Ans-\n",
    "The search() method returns Match objects"
   ]
  },
  {
   "cell_type": "raw",
   "id": "a75019f5",
   "metadata": {},
   "source": [
    "4. From a Match item, how do you get the actual strings that match the pattern?\n",
    "Ans\n",
    "The group() method returns strings of the matched text."
   ]
  },
  {
   "cell_type": "raw",
   "id": "d2c5c530",
   "metadata": {},
   "source": [
    "5. In the regex which created from the r'(\\d\\d\\d)-(\\d\\d\\d-\\d\\d\\d\\d)', what does group zero cover?\n",
    "Group 2? Group 1?\n",
    "\n",
    "Ans-\n",
    "Group 0 is the entire match, group 1 covers the first set of parentheses, and group 2 covers the second set of parentheses"
   ]
  },
  {
   "cell_type": "raw",
   "id": "70f376a9",
   "metadata": {},
   "source": [
    "6. In standard expression syntax, parentheses and intervals have distinct meanings. How can you tell\n",
    "a regex that you want it to fit real parentheses and periods?\n",
    "Ans-\n",
    "Periods and parentheses can be escaped with a backslash: \\., \\(, and \\)."
   ]
  },
  {
   "cell_type": "raw",
   "id": "72743341",
   "metadata": {},
   "source": [
    "7. The findall() method returns a string list or a list of string tuples. What causes it to return one of\n",
    "the two options?\n",
    "Ans-\n",
    "If the regex has no groups, a list of strings is returned. If the regex has groups, a list of tuples of strings is returned."
   ]
  },
  {
   "cell_type": "raw",
   "id": "26d65859",
   "metadata": {},
   "source": [
    "8. In standard expressions, what does the | character mean?\n",
    "Ans-\n",
    "The | character signifies matching “either, or” between two groups."
   ]
  },
  {
   "cell_type": "raw",
   "id": "bf8e71fb",
   "metadata": {},
   "source": [
    "9. In regular expressions, what does the character stand for?\n",
    "Ans-\n",
    "which character ?not mentioned"
   ]
  },
  {
   "cell_type": "raw",
   "id": "a8d5c87d",
   "metadata": {},
   "source": [
    "10.In regular expressions, what is the difference between the + and * characters?\n",
    "Ans-\n",
    "The + matches one or more. The * matches zero or more."
   ]
  },
  {
   "cell_type": "raw",
   "id": "59392d2a",
   "metadata": {},
   "source": [
    "11. What is the difference between {4} and {4,5} in regular expression?\n",
    "Ans-\n",
    "The {4} matches exactly three instances of the preceding group. The {4,5} matches between four and five instances."
   ]
  },
  {
   "cell_type": "raw",
   "id": "0e48e400",
   "metadata": {},
   "source": [
    "12. What do you mean by the \\d, \\w, and \\s shorthand character classes signify in regular\n",
    "expressions?\n",
    "Ans-\n",
    "The \\d, \\w, and \\s shorthand character classes match a single digit, word, or space character, respectively."
   ]
  },
  {
   "cell_type": "raw",
   "id": "e33ee136",
   "metadata": {},
   "source": [
    "13. What do means by \\D, \\W, and \\S shorthand character classes signify in regular expressions?\n",
    "Ans-\n",
    "The \\D, \\W, and \\S shorthand character classes match a single character that is not a digit, word, or space character, respectively."
   ]
  },
  {
   "cell_type": "raw",
   "id": "11a18474",
   "metadata": {},
   "source": [
    "14. What is the difference between .*? and .*?\n",
    "Ans-\n",
    "The .* performs a greedy match, and the .*? performs a nongreedy match"
   ]
  },
  {
   "cell_type": "raw",
   "id": "24076022",
   "metadata": {},
   "source": [
    "15. What is the syntax for matching both numbers and lowercase letters with a character class?\n",
    "Ans-\n",
    "Either [0-9a-z] or [a-z0-9]"
   ]
  },
  {
   "cell_type": "raw",
   "id": "12b1fe87",
   "metadata": {},
   "source": [
    "16. What is the procedure for making a normal expression in regax case insensitive?\n",
    "Ans-\n",
    "Passing re.I or re.IGNORECASE as the second argument to re.compile() will make the matching case insensitive."
   ]
  },
  {
   "cell_type": "raw",
   "id": "17d4c42d",
   "metadata": {},
   "source": [
    "17. What does the . character normally match? What does it match if re.DOTALL is passed as 2nd\n",
    "argument in re.compile()?\n",
    "Ans-\n",
    "The . character normally matches any character except the newline character. If re.DOTALL is passed as the second argument to re.compile(), then the dot will also match newline characters."
   ]
  },
  {
   "cell_type": "raw",
   "id": "9d54e892",
   "metadata": {},
   "source": [
    "18. If numReg = re.compile('r\\d+'), what will numRegex.sub('X','11 drummers, 10 pipers, five rings, 4\n",
    "hen') return?\n",
    " \n",
    " Ans--\n",
    "  'X drummers, X pipers, five rings, X hens'"
   ]
  },
  {
   "cell_type": "raw",
   "id": "faf56d69",
   "metadata": {},
   "source": [
    "19. What does passing re.VERBOSE as the 2nd argument to re.compile() allow to do?\n",
    "Ans-\n",
    "The re.VERBOSE argument allows you to add whitespace and comments to the string passed to re.compile()"
   ]
  },
  {
   "cell_type": "raw",
   "id": "76f4e81a",
   "metadata": {},
   "source": [
    "20. How would you write a regex that match a number with comma for every three digits? It must\n",
    "match the given following:\n",
    "'42'\n",
    "'1,234'\n",
    "'6,368,745'\n",
    "Ans--\n",
    "e.compile(r'^\\d{1,3}(,{3})*$') will create this regex, but other regex strings can produce a similar regular expression.\n"
   ]
  },
  {
   "cell_type": "code",
   "execution_count": null,
   "id": "ffcf23c1",
   "metadata": {},
   "outputs": [],
   "source": []
  }
 ],
 "metadata": {
  "kernelspec": {
   "display_name": "Python 3 (ipykernel)",
   "language": "python",
   "name": "python3"
  },
  "language_info": {
   "codemirror_mode": {
    "name": "ipython",
    "version": 3
   },
   "file_extension": ".py",
   "mimetype": "text/x-python",
   "name": "python",
   "nbconvert_exporter": "python",
   "pygments_lexer": "ipython3",
   "version": "3.10.9"
  }
 },
 "nbformat": 4,
 "nbformat_minor": 5
}
