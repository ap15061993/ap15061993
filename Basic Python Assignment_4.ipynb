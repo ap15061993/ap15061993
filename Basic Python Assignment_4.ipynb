{
 "cells": [
  {
   "cell_type": "raw",
   "id": "e6af0565",
   "metadata": {},
   "source": [
    "1.What exactly is []?\n",
    "Ans-\n",
    "This list ,in which we can store heterogeneous type of data and insertion order is preserved and duplicate also allowed."
   ]
  },
  {
   "cell_type": "raw",
   "id": "e8644ee2",
   "metadata": {},
   "source": [
    "# 2. In a list of values stored in a variable called spam, how would you assign the value hello as the\n",
    "# third value? (Assume [2, 4, 6, 8, 10] are in spam.)\n",
    "spam=[2,4,6,8]\n",
    "spam[2]=\"hello\"\n",
    "spam"
   ]
  },
  {
   "cell_type": "markdown",
   "id": "976a7c7a",
   "metadata": {},
   "source": [
    "# Lets pretend the spam includes the list ['a','b', 'c', 'd'] for the next three queries.\n",
    "\n"
   ]
  },
  {
   "cell_type": "code",
   "execution_count": 10,
   "id": "44037901",
   "metadata": {},
   "outputs": [
    {
     "data": {
      "text/plain": [
       "[3]"
      ]
     },
     "execution_count": 10,
     "metadata": {},
     "output_type": "execute_result"
    }
   ],
   "source": [
    "#3. What is the value of spam[int(int('3' * 2) / 11)]?\n",
    "spam=[int(int('3'*2)/11)]\n",
    "\n",
    "spam\n",
    "Ans-[3]"
   ]
  },
  {
   "cell_type": "raw",
   "id": "6949e956",
   "metadata": {},
   "source": [
    "# 4. What is the value of spam[-1]?\n",
    "spam=['a','b','c','d']\n",
    "spam[-1]\n",
    "ans-'d'"
   ]
  },
  {
   "cell_type": "raw",
   "id": "6568ed1a",
   "metadata": {},
   "source": [
    "# 5. What is the value of spam[:2]?\n",
    "spam=['a','b','c','d']\n",
    "spam[:2]\n",
    "Ans-['a','b']"
   ]
  },
  {
   "cell_type": "markdown",
   "id": "c4ece24f",
   "metadata": {},
   "source": [
    "# Lets pretend bacon has the list [3.14,'cat',11,'cat',True] for the next three questions."
   ]
  },
  {
   "cell_type": "raw",
   "id": "86f9bb00",
   "metadata": {},
   "source": [
    "#6. What is the value of bacon.index('cat')?\n",
    "bacon=[3.14,'cat',11,'cat',True]\n",
    "bacon.index('cat')\n",
    "Ans ->  1"
   ]
  },
  {
   "cell_type": "raw",
   "id": "fe24ec75",
   "metadata": {},
   "source": [
    "#7. How does bacon.append(99) change the look of the list value in bacon?\n",
    "bacon=[3.14,'cat',11,'cat',True]\n",
    "bacon.append(99)\n",
    "print(bacon)\n",
    "ans ->  [3.14, 'cat', 11, 'cat', True, 99]\n"
   ]
  },
  {
   "cell_type": "raw",
   "id": "d4da4bc2",
   "metadata": {},
   "source": [
    "#8. How does bacon.remove('cat') change the look of the list in bacon?\n",
    "bacon=[3.14,'cat',11,'cat',True]\n",
    "bacon.remove('cat')\n",
    "print(bacon)\n",
    "Ans ->  [3.14, 11, 'cat', True]"
   ]
  },
  {
   "cell_type": "raw",
   "id": "4079dc43",
   "metadata": {},
   "source": [
    "9. What are the list concatenation and list replication operators?\n",
    "ans -> + and *,  for +(concatenation) both the value should be string and for *(replication) one value should be string and other one should be integer."
   ]
  },
  {
   "cell_type": "raw",
   "id": "0fd72685",
   "metadata": {},
   "source": [
    "10. What is difference between the list methods append() and insert()?\n",
    "Ans->append() function always insert value at the end of list while insert() insert value at a specific index ."
   ]
  },
  {
   "cell_type": "raw",
   "id": "7ae8f3f9",
   "metadata": {},
   "source": [
    "11. What are the two methods for removing items from a list?\n",
    "Ans-> remove() ,pop(),clear()"
   ]
  },
  {
   "cell_type": "raw",
   "id": "d47fa8ff",
   "metadata": {},
   "source": [
    "12. Describe how list values and string values are identical.\n",
    "Ans-> list can contain heterogeneous type of data while str store only string type of data (which is enclose within single quotes or double quotes).\n",
    "list is mutable while string is immutable"
   ]
  },
  {
   "cell_type": "raw",
   "id": "0651d72e",
   "metadata": {},
   "source": [
    "13. Whats the difference between tuples and lists?\n",
    "Ans->\n",
    "list- 1.heterogeneous data allowed\n",
    "2.insertion order is preserved\n",
    "3.indexing allowed \n",
    "4.duplicates are allowed\n",
    "5.mutable\n",
    "tuple-\n",
    "1.immutable\n",
    "2.indexing concept is not there because(insertion order is not preserved)\n",
    "3.duplicates are not allowed"
   ]
  },
  {
   "cell_type": "raw",
   "id": "009c592c",
   "metadata": {},
   "source": [
    "14. How do you type a tuple value that only contains the integer 42?\n",
    "ans-> t=(42)"
   ]
  },
  {
   "cell_type": "raw",
   "id": "05aef577",
   "metadata": {},
   "source": [
    "15. How do you get a list values tuple form? How do you get a tuple values list form?\n",
    "Ans->using list() ans tuple()\n"
   ]
  },
  {
   "cell_type": "raw",
   "id": "82c6c839",
   "metadata": {},
   "source": [
    "16. Variables that contain list values are not necessarily lists themselves. Instead, what do they\n",
    "contain?\n",
    "\n",
    "Variables will contain references to list values rather than list values themselves. But for strings and integer values, variables simply contain the string or integer value"
   ]
  },
  {
   "cell_type": "raw",
   "id": "addce732",
   "metadata": {},
   "source": [
    "17. How do you distinguish between copy.copy() and copy.deepcopy()?\n",
    "copy() create reference to original object. If you change copied object - you change the original object\n",
    "\n",
    "deepcopy() creates new object and does real copying of original object to new one. Changing new deepcopied object doesn't affect original object.\n"
   ]
  },
  {
   "cell_type": "code",
   "execution_count": null,
   "id": "42156523",
   "metadata": {},
   "outputs": [],
   "source": []
  }
 ],
 "metadata": {
  "kernelspec": {
   "display_name": "Python 3 (ipykernel)",
   "language": "python",
   "name": "python3"
  },
  "language_info": {
   "codemirror_mode": {
    "name": "ipython",
    "version": 3
   },
   "file_extension": ".py",
   "mimetype": "text/x-python",
   "name": "python",
   "nbconvert_exporter": "python",
   "pygments_lexer": "ipython3",
   "version": "3.10.9"
  }
 },
 "nbformat": 4,
 "nbformat_minor": 5
}
