{
 "cells": [
  {
   "cell_type": "markdown",
   "id": "94c67c0d-49ca-4b48-9262-d0a77fdd6ac8",
   "metadata": {},
   "source": [
    "1. Create an assert statement that throws an AssertionError if the variable spam is a negative\n",
    "integer.\n",
    "\n",
    "\n",
    "ANs\n",
    "\n",
    "\n",
    "\n",
    "assert spam < 0, 'The spam variable is less than 0.'"
   ]
  },
  {
   "cell_type": "markdown",
   "id": "32e3575f-7f54-45ce-bfba-0669fcd6df01",
   "metadata": {},
   "source": [
    "2. Write an assert statement that triggers an AssertionError if the variables eggs and bacon contain\n",
    "strings that are the same as each other, even if their cases are different (that is, 'hello' and 'hello' are\n",
    "considered the same, and 'goodbye' and 'GOODbye' are also considered the same).\n",
    "\n",
    "\n",
    "Ans\n",
    "\n",
    "eggs = 'hello'\n",
    "bacon = 'good bye'\n",
    "\n",
    "assert eggs.lower() != bacon.lower(), 'eggs/bacon should not be the same!'"
   ]
  },
  {
   "cell_type": "markdown",
   "id": "a3d82aff-a226-4f0a-aca1-88b35a390c89",
   "metadata": {},
   "source": [
    "3. Create an assert statement that throws an AssertionError every time.\n",
    "\n",
    "ANs\n",
    "\n",
    "\n",
    "assert(False, 'This assertion always triggers.')"
   ]
  },
  {
   "cell_type": "markdown",
   "id": "d6bdcb42-b6d8-4e6c-a9d4-6ea5ee28dd7e",
   "metadata": {},
   "source": [
    "4. What are the two lines that must be present in your software in order to call logging.debug()?\n",
    "\n",
    "ANs\n",
    "\n",
    " To be able to call logging.debug(), you must have these two lines at the start of your program: import logging"
   ]
  },
  {
   "cell_type": "markdown",
   "id": "ec8b710b-35f9-4960-b768-bd5d7532268e",
   "metadata": {},
   "source": [
    "5. What are the two lines that your program must have in order to have logging.debug() send a\n",
    "logging message to a file named programLog.txt?\n",
    "\n",
    "Ans\n",
    "\n",
    "\n",
    "level=logging.DEBUG, \n",
    "\n",
    "\n",
    "format=' %(asctime)s - %(levelname)s - %(message)s')"
   ]
  },
  {
   "cell_type": "markdown",
   "id": "eec262c1-f6bb-45bc-9289-47ed0ba71373",
   "metadata": {},
   "source": [
    "6. What are the five levels of logging?\n",
    "\n",
    "\n",
    "Ans\n",
    "\n",
    "\n",
    "DEBUG, INFO, WARNING, ERROR, and CRITICAL"
   ]
  },
  {
   "cell_type": "markdown",
   "id": "6ec77a47-ad8c-4cbc-8fd6-254a91507f0b",
   "metadata": {},
   "source": [
    "7. What line of code would you add to your software to disable all logging messages?\n",
    "\n",
    "\n",
    "Ans\n",
    "\n",
    "logging.disable(logging.CRITICAL)"
   ]
  },
  {
   "cell_type": "markdown",
   "id": "e150c4c1-db89-44af-a10f-e01fe56b6a7c",
   "metadata": {},
   "source": [
    "8.Why is using logging messages better than using print() to display the same message?\n",
    "\n",
    "\n",
    "ANs\n",
    "\n",
    "\n",
    " You can disable logging messages without removing the logging function calls. You can selectively disable lower-level logging messages. You can create logging messages. Logging messages provides a timestamp."
   ]
  },
  {
   "cell_type": "markdown",
   "id": "117bc78d-ecde-457a-82c3-7c1525939e59",
   "metadata": {},
   "source": [
    "9. What are the differences between the Step Over, Step In, and Step Out buttons in the debugger?\n",
    "\n",
    "\n",
    "ANs\n",
    "\n",
    "\n",
    "The Step button will move the debugger into a function call. The Over button will quickly execute the function call without stepping into it. The Out button will quickly execute the rest of the code until it steps out of the function it currently is in."
   ]
  },
  {
   "cell_type": "markdown",
   "id": "d3c321aa-e05f-4897-b849-7e928241b26d",
   "metadata": {},
   "source": [
    "10.After you click Continue, when will the debugger stop ?\n",
    "\n",
    "\n",
    "Ans\n",
    "\n",
    "\n",
    "click Go, the debugger will stop when it has reached the end of the program or a line with a breakpoint."
   ]
  },
  {
   "cell_type": "markdown",
   "id": "acbbe850-16f7-4a6b-af14-244cd939011a",
   "metadata": {},
   "source": [
    "11. What is the concept of a breakpoint?\n",
    "\n",
    "\n",
    "ANs\n",
    "\n",
    "\n",
    "breakpoint is a setting on a line of code that causes the debugger to pause when the program execution reaches the line"
   ]
  },
  {
   "cell_type": "code",
   "execution_count": null,
   "id": "625a1216-c41a-41a8-b1bb-1bb2e910803d",
   "metadata": {},
   "outputs": [],
   "source": []
  }
 ],
 "metadata": {
  "kernelspec": {
   "display_name": "Python 3 (ipykernel)",
   "language": "python",
   "name": "python3"
  },
  "language_info": {
   "codemirror_mode": {
    "name": "ipython",
    "version": 3
   },
   "file_extension": ".py",
   "mimetype": "text/x-python",
   "name": "python",
   "nbconvert_exporter": "python",
   "pygments_lexer": "ipython3",
   "version": "3.10.6"
  }
 },
 "nbformat": 4,
 "nbformat_minor": 5
}
