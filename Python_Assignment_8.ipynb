{
 "cells": [
  {
   "cell_type": "raw",
   "id": "01083d2f",
   "metadata": {},
   "source": [
    "1. Is the Python Standard Library included with PyInputPlus?\n",
    "Ans-\n",
    "No\n"
   ]
  },
  {
   "cell_type": "raw",
   "id": "c282cf8d",
   "metadata": {},
   "source": [
    "2. Why is PyInputPlus commonly imported with import pyinputplus as pypi?\n",
    "Ans-\n",
    "You can import the module with import pyinputplus as pyip so that you can enter a shorter name when calling the module’s functions"
   ]
  },
  {
   "cell_type": "raw",
   "id": "04cdcf51",
   "metadata": {},
   "source": [
    "3. How do you distinguish between inputInt() and inputFloat()?\n",
    "Ans-\n",
    "The difference is in the data-type when you use the first one the program expects an integer value as input but in the latter it expects a float value i.e number containing a decimal"
   ]
  },
  {
   "cell_type": "raw",
   "id": "0375bef6",
   "metadata": {},
   "source": [
    "4. Using PyInputPlus, how do you ensure that the user enters a whole number between 0 and 99?\n",
    "Ans-\n",
    "By using pyip.inputint(min=0, max=99)"
   ]
  },
  {
   "cell_type": "raw",
   "id": "dfa5df5b",
   "metadata": {},
   "source": [
    "5. What is transferred to the keyword arguments allowRegexes and blockRegexes?\n",
    "Ans-\n",
    " A list of regex strings that are either explicitly allowed or denied"
   ]
  },
  {
   "cell_type": "raw",
   "id": "2cf13b08",
   "metadata": {},
   "source": [
    "6. If a blank input is entered three times, what does inputStr(limit=3) do?\n",
    "\n",
    "Ans-\n",
    "\n",
    "The function will raise RetryLimitException."
   ]
  },
  {
   "cell_type": "raw",
   "id": "e7e76518",
   "metadata": {},
   "source": [
    "7. If blank input is entered three times, what does inputStr(limit=3, default='hello') do?\n",
    "Ans-\n",
    "The function returns the value 'hello'"
   ]
  }
 ],
 "metadata": {
  "kernelspec": {
   "display_name": "Python 3 (ipykernel)",
   "language": "python",
   "name": "python3"
  },
  "language_info": {
   "codemirror_mode": {
    "name": "ipython",
    "version": 3
   },
   "file_extension": ".py",
   "mimetype": "text/x-python",
   "name": "python",
   "nbconvert_exporter": "python",
   "pygments_lexer": "ipython3",
   "version": "3.10.9"
  }
 },
 "nbformat": 4,
 "nbformat_minor": 5
}
