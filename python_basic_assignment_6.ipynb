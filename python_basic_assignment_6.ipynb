{
 "cells": [
  {
   "cell_type": "raw",
   "id": "f329a48f",
   "metadata": {},
   "source": [
    "1. What are escape characters, and how do you use them?\n",
    "\n",
    "1) \\n -->New Line\n",
    "2) \\t -->Horizontal Tab\n",
    "3) \\r --> Carriage Return\n",
    "4) \\b -->Back Space\n",
    "5) \\f -->Form Feed\n",
    "6) \\v -->Vertical Tab\n",
    "7) \\' --> Single Quote\n",
    "8) \\\" -->Double Quote\n",
    "9) \\ -->Back Slash Symbol\n"
   ]
  },
  {
   "cell_type": "raw",
   "id": "c69c365f",
   "metadata": {},
   "source": [
    "2. What do the escape characters n and t stand for?\n",
    "\\n used for new line \n",
    "and \\t used for Horizontal Tab space"
   ]
  },
  {
   "cell_type": "raw",
   "id": "ba83488a",
   "metadata": {},
   "source": [
    "3. What is the way to include backslash characters in a string?\n",
    "example\n",
    "s=\"amit\\nsoftware\"\n",
    "\n",
    "s=\"amit\\tsoftware\"\n",
    "s=\"This is \\\" symbol\""
   ]
  },
  {
   "cell_type": "raw",
   "id": "5f854449",
   "metadata": {},
   "source": [
    "4. The string \"Howl's Moving Castle\"is a correct value. Why isn't the single quote character in the\n",
    "word Howl's not escaped a problem?\n",
    "\n",
    "Ans-->\n",
    "because string in double quotes that's why it is working fine ,if we will use single quotes then we will get error."
   ]
  },
  {
   "cell_type": "raw",
   "id": "55d82a4a",
   "metadata": {},
   "source": [
    "5. How do you write a string of newlines if you don't want to use the n character?\n",
    "Ans --> by using end keyword.\n"
   ]
  },
  {
   "cell_type": "raw",
   "id": "7f3ccfd3",
   "metadata": {},
   "source": [
    "6. What are the values of the given expressions?\n",
    "Ans-->\n",
    "'Hello, world!'[1]->'e'\n",
    "'Hello, world!'[0:5]->'Hello'\n",
    "'Hello, world!'[:5]->'Hello'\n",
    "'Hello, world!'[3:]->'lo, world!'"
   ]
  },
  {
   "cell_type": "raw",
   "id": "17777f57",
   "metadata": {},
   "source": [
    "7. What are the values of the following expressions?\n",
    "\n",
    "'Hello'.upper()  -->'HELLO'\n",
    "'Hello'.upper().isupper()  -->True\n",
    "Hello'.upper().lower()  -->'hello'"
   ]
  },
  {
   "cell_type": "raw",
   "id": "0f67475c",
   "metadata": {},
   "source": [
    "8. What are the values of the following expressions?\n",
    "'Remember, remember, the fifth of July.'.split() --->['Remember,', 'remember,', 'the', 'fifth', 'of', 'July.']\n",
    "\n",
    "'-'.join('There can only one.'.split())-->'There-can-only-one.'"
   ]
  },
  {
   "cell_type": "raw",
   "id": "4a10a71b",
   "metadata": {},
   "source": [
    "9. What are the methods for right-justifying, left-justifying, and centering a string?\n",
    "\n",
    "Ans->ljust(), rjust(), center()\n",
    "\n"
   ]
  },
  {
   "cell_type": "raw",
   "id": "a6dbf490",
   "metadata": {},
   "source": [
    "10. What is the best way to remove whitespace characters from the start or end?\n",
    "\n",
    "the .strip() method to remove whitespace and characters from the beginning and the end of a string. Use the .lstrip() method to remove whitespace and characters only from the beginning of a string. Use the .rstrip() method to remove whitespace and characters only from the end of a string"
   ]
  },
  {
   "cell_type": "code",
   "execution_count": null,
   "id": "b42cba85",
   "metadata": {},
   "outputs": [],
   "source": []
  }
 ],
 "metadata": {
  "kernelspec": {
   "display_name": "Python 3 (ipykernel)",
   "language": "python",
   "name": "python3"
  },
  "language_info": {
   "codemirror_mode": {
    "name": "ipython",
    "version": 3
   },
   "file_extension": ".py",
   "mimetype": "text/x-python",
   "name": "python",
   "nbconvert_exporter": "python",
   "pygments_lexer": "ipython3",
   "version": "3.10.9"
  }
 },
 "nbformat": 4,
 "nbformat_minor": 5
}
