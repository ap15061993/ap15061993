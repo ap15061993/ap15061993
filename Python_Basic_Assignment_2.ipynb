{
 "cells": [
  {
   "cell_type": "raw",
   "id": "8b2109ed",
   "metadata": {},
   "source": [
    "1.What are the two values of the Boolean data type? How do you write them?\n",
    "Ans  There are two values of boolean data type which are True and False "
   ]
  },
  {
   "cell_type": "raw",
   "id": "ee75445f",
   "metadata": {},
   "source": [
    "2. What are the three different types of Boolean operators?\n",
    "Ans - and ,or ,not\n"
   ]
  },
  {
   "cell_type": "raw",
   "id": "d5c75e5a",
   "metadata": {},
   "source": [
    "3. Make a list of each Boolean operator's truth tables (i.e. every possible combination of Boolean values for the operator and what it evaluate ).\n",
    "\n",
    "True and True is True.\n",
    "\n",
    "True and False is False.\n",
    "\n",
    "False and True is False.\n",
    "\n",
    "False and False is False.\n",
    "\n",
    "True or True is True.\n",
    "\n",
    "True or False is True.\n",
    "\n",
    "False or True is True.\n",
    "\n",
    "False or False is False.\n",
    "\n",
    "not True is False.\n",
    "\n",
    "not False is True"
   ]
  },
  {
   "cell_type": "raw",
   "id": "69309d6f",
   "metadata": {},
   "source": [
    "4. What are the values of the following expressions?\n",
    "(5 > 4) and (3 == 5)  -> False\n",
    "not (5 > 4) ->False\n",
    "(5 > 4) or (3 == 5) ->True\n",
    "not ((5 > 4) or (3 == 5)) ->False\n",
    "(True and True) and (True == False) ->False\n",
    "(not False) or (not True) ->True"
   ]
  },
  {
   "cell_type": "raw",
   "id": "e7dff75a",
   "metadata": {},
   "source": [
    "5. What are the six comparison operators?\n",
    "==, !=, <, >, <=, and >=.\n"
   ]
  },
  {
   "cell_type": "raw",
   "id": "b288474d",
   "metadata": {},
   "source": [
    "6. How do you tell the difference between the equal to and assignment operators?Describe a condition and when you would use one.\n",
    "== (equal to) oprator is used to compare values and return the Boolean value while assignment (=) operator is used to store a value in a variable.\n"
   ]
  },
  {
   "cell_type": "raw",
   "id": "8a1f12f7",
   "metadata": {},
   "source": [
    "7. Identify the three blocks in this code:\n",
    "The three blocks are everything inside the if statement.\n",
    "three blocks are.\n",
    "1.print('eggs')\n",
    "2.print('bacon')\n",
    "3.print('ham')\n",
    "  print('spam')\n",
    "  print('spam')\n",
    "              \n",
    "spam = 0\n",
    "if spam == 10:\n",
    "              print('eggs')\n",
    "if spam > 5:\n",
    "              print('bacon')\n",
    "else:\n",
    "              print('ham')\n",
    "              print('spam')\n",
    "              print('spam')"
   ]
  },
  {
   "cell_type": "raw",
   "id": "72c82183",
   "metadata": {},
   "source": [
    "8. Write code that prints Hello if 1 is stored in spam, prints Howdy if 2 is stored in spam, and prints Greetings! if anything else is stored in spam.\n",
    "spam=int(input(\"enter number :\"));\n",
    "if spam==1:\n",
    "    print(\"Hello\");\n",
    "elif spam==2:\n",
    "    print(\"Howdy\");\n",
    "else:\n",
    "    print(\"Greetings!\");"
   ]
  },
  {
   "cell_type": "raw",
   "id": "5206fb57",
   "metadata": {},
   "source": [
    "9.If your programme is stuck in an endless loop, what keys you’ll press?\n",
    "Press CTRL-C to stop a program stuck in an infinite loop.\n"
   ]
  },
  {
   "cell_type": "raw",
   "id": "f01fa011",
   "metadata": {},
   "source": [
    "10. How can you tell the difference between break and continue?\n",
    "The break statement will move the execution outside and just after a loop. The continue statement will move the execution to the start of the loop.\n",
    "\n"
   ]
  },
  {
   "cell_type": "raw",
   "id": "af8e3869",
   "metadata": {},
   "source": [
    "11. In a for loop, what is the difference between range(10), range(0, 10), and range(0, 10, 1)?\n",
    "They all do the same thing. The range(10) call ranges from 0 up to (but not including) 10, range(0, 10) explicitly tells the loop to start at 0, and range(0, 10, 1) explicitly tells the loop to increase the variable by 1 on each iteration.\n"
   ]
  },
  {
   "cell_type": "raw",
   "id": "2d459ac0",
   "metadata": {},
   "source": [
    "12. Write a short program that prints the numbers 1 to 10 using a for loop. Then write an equivalent program that prints the numbers 1 to 10 using a while loop.\n",
    "\n"
   ]
  },
  {
   "cell_type": "code",
   "execution_count": 1,
   "id": "a398f672",
   "metadata": {},
   "outputs": [
    {
     "name": "stdout",
     "output_type": "stream",
     "text": [
      "1\n",
      "2\n",
      "3\n",
      "4\n",
      "5\n",
      "6\n",
      "7\n",
      "8\n",
      "9\n",
      "10\n",
      "1\n",
      "2\n",
      "3\n",
      "4\n",
      "5\n",
      "6\n",
      "7\n",
      "8\n",
      "9\n",
      "10\n"
     ]
    }
   ],
   "source": [
    "for i in range(1, 11):\n",
    "    print(i)\n",
    "\n",
    "i = 1\n",
    "while i<=10:\n",
    "    print(i)\n",
    "    i = i + 1"
   ]
  },
  {
   "cell_type": "raw",
   "id": "b4bfb803",
   "metadata": {},
   "source": [
    "13. If you had a function named bacon() inside a module named spam, how would you call it after importing spam?\n",
    "This function can be called with spam.bacon().\n"
   ]
  },
  {
   "cell_type": "code",
   "execution_count": null,
   "id": "eea7cc7e",
   "metadata": {},
   "outputs": [],
   "source": []
  }
 ],
 "metadata": {
  "kernelspec": {
   "display_name": "Python 3 (ipykernel)",
   "language": "python",
   "name": "python3"
  },
  "language_info": {
   "codemirror_mode": {
    "name": "ipython",
    "version": 3
   },
   "file_extension": ".py",
   "mimetype": "text/x-python",
   "name": "python",
   "nbconvert_exporter": "python",
   "pygments_lexer": "ipython3",
   "version": "3.9.13"
  }
 },
 "nbformat": 4,
 "nbformat_minor": 5
}
